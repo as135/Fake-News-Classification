{
 "cells": [
  {
   "cell_type": "markdown",
   "metadata": {},
   "source": [
    "# Basic Analysis Pipeline"
   ]
  },
  {
   "cell_type": "markdown",
   "metadata": {},
   "source": [
    "Kelly Geyer"
   ]
  },
  {
   "cell_type": "code",
   "execution_count": 1,
   "metadata": {
    "collapsed": false
   },
   "outputs": [
    {
     "name": "stderr",
     "output_type": "stream",
     "text": [
      "UsageError: unrecognized arguments: # Keeps plots in jupyter notebook\n"
     ]
    }
   ],
   "source": [
    "%matplotlib inline          # Keeps plots in jupyter notebook\n",
    "\n",
    "# Define all parameters\n",
    "data_dir = '/Users/kellygeyer/Documents/rtg_summer_2017/sample_data'    # Contains all data files\n",
    "data_key_fn = 'article_key.json'"
   ]
  },
  {
   "cell_type": "code",
   "execution_count": 2,
   "metadata": {
    "collapsed": false
   },
   "outputs": [],
   "source": [
    "# Numerical packages\n",
    "import numpy as np\n",
    "from scipy.sparse import coo_matrix, hstack, csr_matrix\n",
    "\n",
    "# NLP packages\n",
    "import nltk\n",
    "import ll_author_id as lai\n",
    "\n",
    "# ML packages\n",
    "from sklearn.feature_extraction.text import TfidfVectorizer\n",
    "from sklearn import svm\n",
    "from sklearn.metrics import roc_curve, auc\n",
    "from sklearn.multiclass import OneVsRestClassifier\n",
    "from sklearn import preprocessing\n",
    "\n",
    "# Plotting\n",
    "import matplotlib.pyplot as plt\n",
    "\n",
    "# General packages\n",
    "import os\n",
    "import sys\n",
    "import json\n",
    "import re\n",
    "import random\n",
    "import itertools"
   ]
  },
  {
   "cell_type": "code",
   "execution_count": 4,
   "metadata": {
    "collapsed": false
   },
   "outputs": [],
   "source": [
    "# Load article key (links article IDs to filenames)\n",
    "with open(os.path.join(data_dir, data_key_fn), 'r') as f:\n",
    "    labels = json.load(f)\n",
    "    \n",
    "# Load data and save into data dictionary (keys are article ids, values are dictionaries of features)\n",
    "data = dict({})\n",
    "fns = filter(lambda x: x != data_key_fn, os.listdir(data_dir))\n",
    "for ii in fns:\n",
    "    with open(os.path.join(data_dir,ii), 'r') as f:\n",
    "        art = json.load(f)\n",
    "    article_id = int(re.findall(r'\\d+', ii)[0])\n",
    "    data[article_id] = art"
   ]
  },
  {
   "cell_type": "markdown",
   "metadata": {},
   "source": [
    "## Split Data into testing and training sets"
   ]
  },
  {
   "cell_type": "markdown",
   "metadata": {},
   "source": [
    "We split the data before forming the design matrix since some features are dependent on all documents"
   ]
  },
  {
   "cell_type": "code",
   "execution_count": 5,
   "metadata": {
    "collapsed": false
   },
   "outputs": [],
   "source": [
    "# Randomly shuffle document IDs\n",
    "all_ids = data.keys()\n",
    "random.shuffle(all_ids)\n",
    "\n",
    "# Test on a subset of data\n",
    "all_ids = all_ids[0:100]\n",
    "\n",
    "# TODO: Test on the full set\n",
    "\n",
    "# Assign 30% to test set, rest to training set\n",
    "nTest = int(.3*len(all_ids))\n",
    "test_ids = all_ids[0:nTest]\n",
    "train_ids = all_ids[nTest:len(all_ids)]"
   ]
  },
  {
   "cell_type": "markdown",
   "metadata": {},
   "source": [
    "## General Functions to make analysis easier"
   ]
  },
  {
   "cell_type": "code",
   "execution_count": 6,
   "metadata": {
    "collapsed": true
   },
   "outputs": [],
   "source": [
    "def update_doc_json(dict_obj, doc_id):\n",
    "    '''\n",
    "    This function updates the document json with term frequencies\n",
    "    '''\n",
    "    fn = os.path.join(data_dir, 'article_' + str(doc_id) + '.json')\n",
    "    with open(fn, \"w\") as json_file:\n",
    "        json.dump(dict_obj, json_file)"
   ]
  },
  {
   "cell_type": "markdown",
   "metadata": {},
   "source": [
    "## Normalize Text"
   ]
  },
  {
   "cell_type": "markdown",
   "metadata": {},
   "source": [
    "In this section we 1. convert UTF8 characters to ASCII (assuming that all docs are English) and 2. remove punctuation"
   ]
  },
  {
   "cell_type": "code",
   "execution_count": 7,
   "metadata": {
    "collapsed": false
   },
   "outputs": [],
   "source": [
    "# Functions used for normalizing text\n",
    "\n",
    "def normalize_4_tfidf(doc_ids):\n",
    "    '''\n",
    "    This function normalizes the articles and titles, then updates the json\n",
    "    \n",
    "    Note that stop words are removed in TfidfVectorizer\n",
    "    \n",
    "    :param doc_ids: list of document IDs\n",
    "    :param data: comprehensive document dictionary\n",
    "    :return data: data containing new fields\n",
    "    '''\n",
    "    cachedStopWords = nltk.corpus.stopwords.words(\"english\")\n",
    "    for ii in doc_ids:\n",
    "        # Normalize text using LiLAC (only when it hasn't already been done!) and remove stop words\n",
    "        if 'norm_article_text' not in data[ii].keys():\n",
    "            art_text = normalize_rtgVersion(data[ii]['article_text'])\n",
    "            data[ii]['norm_article_text'] = art_text\n",
    "        if 'norm_article_title' not in data[ii].keys():\n",
    "            title_text = normalize_rtgVersion(data[ii]['article_title'])\n",
    "            data[ii]['norm_article_title'] = title_text\n",
    "        # Tokenize\n",
    "        # article_tokens = nltk.word_tokenize(norm_article)\n",
    "        # title_tokens = nltk.word_tokenize(norm_title)\n",
    "        # Save to doc .json file\n",
    "        update_doc_json(data[ii], ii)    \n",
    "\n",
    "def normalize_rtgVersion(ln):\n",
    "    \"\"\"\n",
    "    This function normalizes text, normalization options include\n",
    "    1. convert UTF8 to ASCII\n",
    "    2. Remove nonsentenial punctuation\n",
    "    3. Remove mark up\n",
    "    4. remove word punctuation\n",
    "    5. remove repeats (i.e. hahahahaha)\n",
    "    6. remove twitter media, handles, tags\n",
    "    \n",
    "    :param ln: Text before normalization process\n",
    "    :return ln: Normalized text\n",
    "    \"\"\"\n",
    "    # Load dictionary for ASCII conversion\n",
    "    rw_hash = lai.create_utf8_rewrite_hash()\n",
    "    # Various normalization routines -- pick and choose as needed\n",
    "    ln = lai.convertUTF8_to_ascii(ln, rw_hash)\n",
    "    ln = remove_nonsentential_punctuation_rtgVersion(ln)\n",
    "    ln = lai.remove_markup(ln)\n",
    "    ln = lai.remove_word_punctuation(ln)  \n",
    "    ln = lai.remove_repeats(ln)           # Remove repeated laughter (i.e. hahahahaha)\n",
    "    ln = ln.lower()                       # Convert to lower case\n",
    "    ln = lai.remove_twitter_meta(ln)\n",
    "    ln = re.sub('\\s+', ' ', ln)\n",
    "    if (ln == ' '):\n",
    "        ln = ''\n",
    "    return ln\n",
    "\n",
    "def remove_nonsentential_punctuation_rtgVersion(ln):\n",
    "    \"\"\"\n",
    "    This function removes nonsentenial punctuation from text.\n",
    "    :param/return ln: String\n",
    "    \n",
    "    TODO:\n",
    "    0. Check to see that TfidfVectorizor does not already do 1-5. \n",
    "    If it doesn't do 1-5 as necessary\n",
    "    1. Remove '&'\n",
    "    2. Remove '.'\n",
    "    3. Remove '''\n",
    "    4. Remove ',' (special consideration for #s vs in sentences)\n",
    "    5. Remove all '/'\n",
    "    \"\"\"\n",
    "    # remove '-'\n",
    "    ln = re.sub('^\\-+', '', ln)\n",
    "    ln = re.sub('\\-\\-+', '', ln)\n",
    "    ln = re.sub('\\s\\-+', '', ln)\n",
    "    # remove '~'\n",
    "    ln = re.sub('\\~', ' ', ln)\n",
    "    # remove standard double quotes\n",
    "    ln = re.sub('\\\"', '', ln)\n",
    "    # remove single quotes\n",
    "    ln = re.sub(\"^\\'+\", '', ln)\n",
    "    ln = re.sub(\"\\'+$\", '', ln)\n",
    "    ln = re.sub(\"\\'+\\s+\", ' ', ln)\n",
    "    ln = re.sub(\"\\s+\\'+\", ' ', ln)\n",
    "    ln = re.sub(\"\\s+\\`+\", ' ', ln)\n",
    "    ln = re.sub(\"^\\`+\", ' ', ln)\n",
    "    # remove ':'\n",
    "    ln = re.sub(\"\\:\\s\", \" \", ln)\n",
    "    ln = re.sub(\"\\:$\", \"\", ln)\n",
    "    # remove ';'\n",
    "    ln = re.sub('\\;\\s', ' ', ln)\n",
    "    ln = re.sub('\\;$', '', ln)\n",
    "    # remove '_'\n",
    "    ln = re.sub('\\_+\\s', ' ', ln)\n",
    "    ln = re.sub('^\\_+', '', ln)\n",
    "    ln = re.sub('_+$', '', ln)\n",
    "    ln = re.sub('\\_\\_+', ' ', ln)\n",
    "    # remove ','\n",
    "    ln = re.sub('\\,+([\\#A-Za-z])', ' \\g<1>', ln) \n",
    "    ln = re.sub('\\,+$', ' ', ln)\n",
    "    ln = re.sub('\\,\\.\\s', ' ', ln)\n",
    "    ln = re.sub('\\,\\s', ' ', ln)\n",
    "    # remove '*'\n",
    "    ln = re.sub('\\s\\*+', ' ', ln)\n",
    "    ln = re.sub('\\*+\\s', ' ', ln)\n",
    "    ln = re.sub('\\*\\.', ' ', ln)\n",
    "    ln = re.sub('\\s\\*+\\s', ' ', ln)\n",
    "    ln = re.sub('^\\*+', '', ln)\n",
    "    ln = re.sub('\\*+$', '', ln)\n",
    "    # Keep only one '.', '?', or '!' \n",
    "    ln = re.sub('\\?[\\!\\?]+', '?', ln)\n",
    "    ln = re.sub('\\![\\?\\!]+', '!', ln)\n",
    "    ln = re.sub('\\.\\.+', '.', ln)\n",
    "    # # remove '/'\n",
    "    ln = re.sub('\\s\\/', ' ', ln)\n",
    "    ln = re.sub('\\/\\s', ' ', ln)\n",
    "    # remove sentence final '!' and '?' \n",
    "    ln = re.sub('[\\!\\?]+\\s*$', '', ln)\n",
    "    # remove other special characters\n",
    "    ln = re.sub('\\|', ' ', ln)\n",
    "    ln = re.sub(r'\\\\', ' ', ln)\n",
    "    # Remove parentheses that are not part of emoticons.\n",
    "    # Note sure of the best way to do this, but here's a conservative \n",
    "    # approach.\n",
    "    ln = re.sub('\\(([@\\#A-Za-z0-9])', '\\g<1>', ln)\n",
    "    ln = re.sub('([@\\#A-Za-z0-9])\\)', '\\g<1> ', ln)\n",
    "    # Clean up extra spaces\n",
    "    ln = re.sub('^\\s+', '', ln)\n",
    "    ln = re.sub('\\s+$', '', ln)\n",
    "    ln = re.sub('\\s+', ' ', ln)\n",
    "    return ln\n"
   ]
  },
  {
   "cell_type": "code",
   "execution_count": 8,
   "metadata": {
    "collapsed": false
   },
   "outputs": [],
   "source": [
    "# Normalize documents for TF-IDF. This can take a while to run even if you've already created normalized text\n",
    "normalize_4_tfidf(all_ids)\n",
    "\n",
    "# TODO: Look into implementing a stemmer/lemmatization. "
   ]
  },
  {
   "cell_type": "markdown",
   "metadata": {},
   "source": [
    "## Create Design matrix"
   ]
  },
  {
   "cell_type": "code",
   "execution_count": 9,
   "metadata": {
    "collapsed": true
   },
   "outputs": [],
   "source": [
    "# Function for computing TF-IDF\n",
    "\n",
    "def create_vocab_dict(train_ids, test_ids, key_name):\n",
    "    '''\n",
    "    This function creates a vocabulary list\n",
    "    \n",
    "    :param train_ids: List of training IDs\n",
    "    :param test_ids: List of testing IDs\n",
    "    :param key_name: Key of dictionary to perform TF-IDF \n",
    "    :return tfidf_obj: TfidfVectorize object for entire corpus\n",
    "    '''\n",
    "    # Get vocabulary list from training set\n",
    "    trObj = TfidfVectorizer(strip_accents='unicode', analyzer='word', stop_words='english')\n",
    "    trObj.fit_transform(map(lambda x: data[x][key_name], train_ids))\n",
    "    trVocab = trObj.get_feature_names()\n",
    "    # Get vocabulary list from testing set\n",
    "    tsObj = TfidfVectorizer(strip_accents='unicode', analyzer='word', stop_words='english')\n",
    "    tsObj.fit_transform(map(lambda x: data[x][key_name], test_ids))\n",
    "    tsVocab = tsObj.get_feature_names()\n",
    "    # Create vocabulary dictionary where keys are terms and values are indexes\n",
    "    all_vocab = list(set(trVocab + tsVocab))\n",
    "    vocab_dict = {all_vocab[ii]: ii for ii in range(len(all_vocab))}\n",
    "    # Create TfidfVectorize Object\n",
    "    tfidf_obj = TfidfVectorizer(strip_accents='unicode', analyzer='word', stop_words='english', vocabulary=vocab_dict)\n",
    "    return tfidf_obj\n",
    "\n",
    "\n",
    "def compute_tfidf(train_ids, test_ids, key_name):\n",
    "    '''\n",
    "    This function computes TF-IDF for a list of document IDs\n",
    "    \n",
    "    :param train_ids: list of train document ids \n",
    "    :param test_ids: list of test doc ids\n",
    "    :param key_name: Key of dictionary to perform TF-IDF \n",
    "    '''\n",
    "    # Create doc2idx dictionary where keys are doc IDs and values are IDX\n",
    "    train_doc2idx = {train_ids[i] : i for i in range(len(train_ids))}\n",
    "    test_doc2idx = {test_ids[i] : i for i in range(len(test_ids))}\n",
    "    # Create TfidfVectorize object  \n",
    "    tfidf_obj = create_vocab_dict(train_ids, test_ids, key_name)\n",
    "    # Create training design matrix\n",
    "    Xtr = tfidf_obj.fit_transform(map(lambda x: data[x][key_name], train_ids))\n",
    "    # Create testing design matrix\n",
    "    Xts = tfidf_obj.fit_transform(map(lambda x: data[x][key_name], test_ids))\n",
    "    return (Xtr, train_doc2idx, Xts, test_doc2idx)\n"
   ]
  },
  {
   "cell_type": "code",
   "execution_count": 10,
   "metadata": {
    "collapsed": false
   },
   "outputs": [
    {
     "name": "stdout",
     "output_type": "stream",
     "text": [
      "0\n",
      "0\n",
      "(30, 1304)\n",
      "(70, 1304)\n"
     ]
    }
   ],
   "source": [
    "# Compute TF-IDF features and store data in a CSR sparse matrices\n",
    "(Xtr1, train_doc2idx1, Xts1, test_doc2idx1) = compute_tfidf(train_ids, test_ids, 'norm_article_title')\n",
    "(Xtr2, train_doc2idx2, Xts2, test_doc2idx2) = compute_tfidf(train_ids, test_ids, 'norm_article_title')\n",
    "# del data\n",
    "\n",
    "# TODO: Other features to try (built into TfidfVectorizer) are 1. character n-grams and \n",
    "# 2. word n-grams. character n-grams will require a different normalization method because we\n",
    "# will want punctuaion. Recall that we removed punctutation from word TF-IDF.\n",
    "#\n",
    "# TODO: Any feature applied to article_text can also be applied to article_title\n",
    "#\n",
    "# TODO:\n",
    "\n",
    "# Check indexes - values should be 0\n",
    "print cmp(train_doc2idx1, train_doc2idx2)\n",
    "print cmp(test_doc2idx1, test_doc2idx2)\n",
    "\n",
    "# Concatenate matrices\n",
    "Xtr = hstack([Xtr1, Xtr2])\n",
    "Xts = hstack([Xts1, Xts2])\n",
    "\n",
    "# Note that the # of rows should match\n",
    "print Xts.shape\n",
    "print Xtr.shape\n",
    "\n",
    "# Remove unnescesary variables\n",
    "del Xtr1, Xtr2, Xts1, Xts2, train_doc2idx1, train_doc2idx2, test_doc2idx1, test_doc2idx2\n"
   ]
  },
  {
   "cell_type": "markdown",
   "metadata": {},
   "source": [
    "## Create Response Matrix"
   ]
  },
  {
   "cell_type": "code",
   "execution_count": 11,
   "metadata": {
    "collapsed": true
   },
   "outputs": [],
   "source": [
    "# Functions for creating response matrices\n",
    "\n",
    "def create_response_matrix(doc_ids):\n",
    "    '''\n",
    "    This function returns a multilabel sparse CSR matrix\n",
    "    \n",
    "    :param doc_ids:\n",
    "    :return Y:\n",
    "    '''\n",
    "    ll = map(lambda x: set(labels[unicode(x)]), doc_ids)\n",
    "    mlb = preprocessing.MultiLabelBinarizer(sparse_output=True, classes=all_labels)\n",
    "    Y = mlb.fit_transform(ll)\n",
    "    return Y\n"
   ]
  },
  {
   "cell_type": "code",
   "execution_count": 12,
   "metadata": {
    "collapsed": false
   },
   "outputs": [
    {
     "name": "stdout",
     "output_type": "stream",
     "text": [
      "all labels:  [u'credible', u'clickbait', u'political', u'satire', u'bias', u'fake', u'unreliable', u'hate', u'conspiracy']\n",
      "(30, 9)\n",
      "(70, 9)\n"
     ]
    }
   ],
   "source": [
    "# Get all unique labels\n",
    "all_labels = list([])\n",
    "all_labels.extend(list(itertools.chain.from_iterable(map(lambda x: labels[unicode(x)], test_ids))))\n",
    "all_labels.extend(list(itertools.chain.from_iterable(map(lambda x: labels[unicode(x)], train_ids))))\n",
    "all_labels = list(set(all_labels))\n",
    "print \"all labels: \", all_labels\n",
    "\n",
    "# Create label2idx, where keys are labels and values are Y column index\n",
    "label2idx = {all_labels[i]: i for i in range(len(all_labels))}\n",
    "\n",
    "# Create CSR sparse response matrices\n",
    "Yts = create_response_matrix(test_ids)\n",
    "Ytr = create_response_matrix(train_ids)\n",
    "\n",
    "# Number of columns should match\n",
    "print Yts.shape\n",
    "print Ytr.shape\n"
   ]
  },
  {
   "cell_type": "markdown",
   "metadata": {},
   "source": [
    "## Standardize design matrices"
   ]
  },
  {
   "cell_type": "code",
   "execution_count": 13,
   "metadata": {
    "collapsed": false
   },
   "outputs": [],
   "source": [
    "# Standardize the data by ensuring that each column has mean=0 and standard deviation=1. Unfortunately this only \n",
    "# works on dense matrices\n",
    "Xtr_std = preprocessing.StandardScaler().fit_transform(Xtr.todense())\n",
    "Xts_std = preprocessing.StandardScaler().fit_transform(Xts.todense())\n",
    "\n",
    "#  TODO: try using preprocessing.MinMaxScaler(). Are the results better?"
   ]
  },
  {
   "cell_type": "markdown",
   "metadata": {},
   "source": [
    "## Fit Classification Model"
   ]
  },
  {
   "cell_type": "code",
   "execution_count": 14,
   "metadata": {
    "collapsed": false
   },
   "outputs": [],
   "source": [
    "# We will use a one-vs-rest classification schema. Note that various binary models (logistic, SVM, etc.) can be \n",
    "# plugged in. In this example we use an SVM.\n",
    "\n",
    "# TODO: Try logisic regression, naive bayes, etc.\n",
    "\n",
    "# Convert to CSR sparse matrix...best for SVM\n",
    "Xtr_std = csr_matrix(Xtr_std)\n",
    "Xts_std = csr_matrix(Xts_std)\n",
    "\n",
    "# Learn to predict each class against the other\n",
    "classifier = OneVsRestClassifier(svm.SVC(probability=True))\n",
    "y_score = classifier.fit(Xtr_std, Ytr).decision_function(Xts_std)\n"
   ]
  },
  {
   "cell_type": "markdown",
   "metadata": {},
   "source": [
    "## Evaluation"
   ]
  },
  {
   "cell_type": "code",
   "execution_count": 15,
   "metadata": {
    "collapsed": false
   },
   "outputs": [
    {
     "name": "stderr",
     "output_type": "stream",
     "text": [
      "/Users/kellygeyer/anaconda/lib/python2.7/site-packages/sklearn/metrics/ranking.py:542: UndefinedMetricWarning: No positive samples in y_true, true positive value should be meaningless\n",
      "  UndefinedMetricWarning)\n"
     ]
    }
   ],
   "source": [
    "# Convert Yts to dense matrix\n",
    "if not isinstance(Yts, np.matrixlib.defmatrix.matrix):\n",
    "    Yts = Yts.todense()\n",
    "\n",
    "# Compute ROC curve and ROC area for each class\n",
    "fpr = dict({})\n",
    "tpr = dict({})\n",
    "roc_auc = dict({})\n",
    "for i in range(len(all_labels)):\n",
    "    fpr[i], tpr[i], _ = roc_curve(Yts[:, i], y_score[:, i], pos_label=1)\n",
    "    roc_auc[i] = auc(fpr[i], tpr[i])\n",
    "    "
   ]
  },
  {
   "cell_type": "code",
   "execution_count": 16,
   "metadata": {
    "collapsed": false
   },
   "outputs": [
    {
     "name": "stdout",
     "output_type": "stream",
     "text": [
      "ROC curve of class 0 (area = 0.50)\n",
      "ROC curve of class 1 (area = 0.35)\n",
      "ROC curve of class 2 (area = 0.59)\n",
      "ROC curve of class 3 (area = 0.33)\n",
      "ROC curve of class 4 (area = 0.42)\n",
      "ROC curve of class 5 (area = nan)\n",
      "ROC curve of class 6 (area = 0.52)\n",
      "ROC curve of class 7 (area = 0.55)\n",
      "ROC curve of class 8 (area = nan)\n"
     ]
    },
    {
     "data": {
      "image/png": "[encoded data removed]",
      "text/plain": [
       "<matplotlib.figure.Figure at 0x1179b4cd0>"
      ]
     },
     "metadata": {},
     "output_type": "display_data"
    }
   ],
   "source": [
    "# Create colormap for plot\n",
    "nplots = len(all_labels)\n",
    "colormap = plt.cm.hsv\n",
    "colors = [colormap(i) for i in np.linspace(0, 1, nplots)]\n",
    "# colors = [colormap(i) for i in np.linspace(0, 0.9, nplots)]\n",
    "lw = 2\n",
    "n_classes = nplots\n",
    "\n",
    "# Create ROC curves\n",
    "# plt.figure()\n",
    "for i, color in zip(range(nplots), colors):\n",
    "    lab = 'ROC curve of class {0} (area = {1:0.2f})'.format(i, roc_auc[i])\n",
    "    print lab\n",
    "    plt.plot(fpr[i], tpr[i], color=color, lw=lw,\n",
    "             label=lab)\n",
    "\n",
    "plt.plot([0, 1], [0, 1], 'k--', lw=lw)\n",
    "plt.xlim([0.0, 1.0])\n",
    "plt.ylim([0.0, 1.05])\n",
    "plt.xlabel('False Positive Rate')\n",
    "plt.ylabel('True Positive Rate')\n",
    "plt.title('Some extension of Receiver operating characteristic to multi-class')\n",
    "plt.legend(loc=\"best\")\n",
    "plt.show()\n",
    "\n",
    "\n",
    "# TODO: Plot precision-recall curves\n",
    "\n",
    "# TODO: create dispersion plots\n",
    "\n",
    "# TODO: Make bigger display of ROC curve so it looks better, save it as some type of image file\n"
   ]
  },
  {
   "cell_type": "markdown",
   "metadata": {},
   "source": [
    "\n",
    "## References"
   ]
  },
  {
   "cell_type": "markdown",
   "metadata": {},
   "source": [
    "1. Blog on text features and implementations: https://www.analyticsvidhya.com/blog/2017/01/ultimate-guide-to-understand-implement-natural-language-processing-codes-in-python/ \\\n",
    "2. Book on NLP with Python: http://victoria.lviv.ua/html/fl5/NaturalLanguageProcessingWithPython.pdf"
   ]
  }
 ],
 "metadata": {
  "anaconda-cloud": {},
  "kernelspec": {
   "display_name": "Python 2",
   "language": "python",
   "name": "python2"
  },
  "language_info": {
   "codemirror_mode": {
    "name": "ipython",
    "version": 2
   },
   "file_extension": ".py",
   "mimetype": "text/x-python",
   "name": "python",
   "nbconvert_exporter": "python",
   "pygments_lexer": "ipython2",
   "version": "2.7.13"
  }
 },
 "nbformat": 4,
 "nbformat_minor": 0
}
